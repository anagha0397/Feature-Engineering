{
 "cells": [
  {
   "cell_type": "code",
   "execution_count": 6,
   "id": "3b324a58",
   "metadata": {},
   "outputs": [],
   "source": [
    "import pandas as pd\n",
    "from pandas import read_csv\n",
    "import numpy as np\n",
    "from numpy import set_printoptions\n",
    "from sklearn.feature_selection import SelectKBest\n",
    "from sklearn.feature_selection import chi2\n",
    "from sklearn.feature_selection import RFE\n",
    "from sklearn.linear_model import LogisticRegression\n",
    "from sklearn.tree import DecisionTreeClassifier\n",
    "import warnings\n",
    "warnings.filterwarnings(\"ignore\")"
   ]
  },
  {
   "cell_type": "markdown",
   "id": "6597cde4",
   "metadata": {},
   "source": [
    "### Feature Selection with Univariate chi2 test"
   ]
  },
  {
   "cell_type": "code",
   "execution_count": 1,
   "id": "4855b491",
   "metadata": {},
   "outputs": [],
   "source": [
    "diabetes = \"pima-indians-diabetes.data.csv\""
   ]
  },
  {
   "cell_type": "code",
   "execution_count": 2,
   "id": "15e298df",
   "metadata": {},
   "outputs": [],
   "source": [
    "# There are no columns names in the above dataset so we will create a list of column names"
   ]
  },
  {
   "cell_type": "code",
   "execution_count": 3,
   "id": "a6d7307a",
   "metadata": {},
   "outputs": [],
   "source": [
    "names = ['preg', 'plas', 'pres', 'skin', 'test', 'mass', 'pedi', 'age', 'class']"
   ]
  },
  {
   "cell_type": "code",
   "execution_count": 4,
   "id": "9a433590",
   "metadata": {},
   "outputs": [],
   "source": [
    "# Now we will join this this list of columns names with the original data"
   ]
  },
  {
   "cell_type": "code",
   "execution_count": 7,
   "id": "9997b729",
   "metadata": {},
   "outputs": [],
   "source": [
    "dataframe = read_csv(diabetes, names=names)"
   ]
  },
  {
   "cell_type": "code",
   "execution_count": 8,
   "id": "340da7a7",
   "metadata": {},
   "outputs": [],
   "source": [
    "array = dataframe.values"
   ]
  },
  {
   "cell_type": "code",
   "execution_count": 9,
   "id": "58f1f809",
   "metadata": {},
   "outputs": [],
   "source": [
    "x = array[:,0:8]\n",
    "y = array[:,8]"
   ]
  },
  {
   "cell_type": "code",
   "execution_count": 10,
   "id": "20a0cef3",
   "metadata": {},
   "outputs": [],
   "source": [
    "# Feature extraction"
   ]
  },
  {
   "cell_type": "code",
   "execution_count": 11,
   "id": "eaa0d98b",
   "metadata": {},
   "outputs": [],
   "source": [
    "test = SelectKBest(score_func = chi2, k = 4)       ## Here we are suppose to mention how many features we want to select and the function we are suppose to mention that means on what basis we are doing feature extarction here it is chi2"
   ]
  },
  {
   "cell_type": "code",
   "execution_count": 13,
   "id": "326f1a2b",
   "metadata": {},
   "outputs": [
    {
     "data": {
      "text/plain": [
       "SelectKBest(k=4, score_func=<function chi2 at 0x000001E44C645A60>)"
      ]
     },
     "execution_count": 13,
     "metadata": {},
     "output_type": "execute_result"
    }
   ],
   "source": [
    "fit = test.fit(x,y)\n",
    "fit"
   ]
  },
  {
   "cell_type": "code",
   "execution_count": 14,
   "id": "25a03925",
   "metadata": {},
   "outputs": [],
   "source": [
    "# As we want scores upto 3 decimals, we will use set_printoptons"
   ]
  },
  {
   "cell_type": "code",
   "execution_count": 15,
   "id": "ccffa8f8",
   "metadata": {},
   "outputs": [],
   "source": [
    "set_printoptions(precision = 3)"
   ]
  },
  {
   "cell_type": "code",
   "execution_count": 16,
   "id": "ee71742b",
   "metadata": {},
   "outputs": [],
   "source": [
    "# Finally we will transform our Input data which is stored in x based on the fitted values"
   ]
  },
  {
   "cell_type": "code",
   "execution_count": 17,
   "id": "777758fc",
   "metadata": {},
   "outputs": [],
   "source": [
    "features = fit.transform(x)"
   ]
  },
  {
   "cell_type": "code",
   "execution_count": 43,
   "id": "cbd77d45",
   "metadata": {},
   "outputs": [
    {
     "name": "stdout",
     "output_type": "stream",
     "text": [
      "[ 111.52  1411.887   17.605   53.108 2175.565  127.669    5.393  181.304]\n"
     ]
    }
   ],
   "source": [
    "print(fit.scores_)"
   ]
  },
  {
   "cell_type": "markdown",
   "id": "93bacfbd",
   "metadata": {},
   "source": [
    "Inference: Here our aim was to detect the features having high chi2 scores, from the above scores we can say that test is the most useful feature in our data as the chi2 value is more for test and it can be used for determining whether the patient is having diabetes or not, also plasma, mass pregnancy and pedi, these are also the useful features, although we can neglect pressure, skin and age as the chi2 value for them is very less"
   ]
  },
  {
   "cell_type": "markdown",
   "id": "62cf96f0",
   "metadata": {},
   "source": [
    "### Recursive Feature Elimination"
   ]
  },
  {
   "cell_type": "code",
   "execution_count": 8,
   "id": "200a6bc2",
   "metadata": {},
   "outputs": [],
   "source": [
    "# As RFE works better with logistic regression we will invoke logistic regression function for that "
   ]
  },
  {
   "cell_type": "code",
   "execution_count": 9,
   "id": "5a817f59",
   "metadata": {},
   "outputs": [],
   "source": [
    "model = LogisticRegression(max_iter = 400)    # max_iter means this logisctic regression fuction will run 400 times, RFE will built multiple logistic regression and these LR models will be compared with each other internally"
   ]
  },
  {
   "cell_type": "code",
   "execution_count": 12,
   "id": "26bf4eb6",
   "metadata": {},
   "outputs": [],
   "source": [
    "rfe = RFE(model,3)                            # Syntax = RFE(model on which rfe to be applied, no. of features to be selected at a time),This rfe will calculate the accuracy of the combinations made internally "
   ]
  },
  {
   "cell_type": "code",
   "execution_count": 13,
   "id": "ae0b5a84",
   "metadata": {},
   "outputs": [],
   "source": [
    "fit = rfe.fit(x,y)"
   ]
  },
  {
   "cell_type": "code",
   "execution_count": 14,
   "id": "fdaae515",
   "metadata": {},
   "outputs": [
    {
     "data": {
      "text/plain": [
       "3"
      ]
     },
     "execution_count": 14,
     "metadata": {},
     "output_type": "execute_result"
    }
   ],
   "source": [
    "fit.n_features_                               # This will extract the number of features"
   ]
  },
  {
   "cell_type": "code",
   "execution_count": 15,
   "id": "92fd073f",
   "metadata": {},
   "outputs": [],
   "source": [
    "# We can see the support for each feature"
   ]
  },
  {
   "cell_type": "code",
   "execution_count": 16,
   "id": "d77d73c4",
   "metadata": {},
   "outputs": [
    {
     "data": {
      "text/plain": [
       "array([ True, False, False, False, False,  True,  True, False])"
      ]
     },
     "execution_count": 16,
     "metadata": {},
     "output_type": "execute_result"
    }
   ],
   "source": [
    "fit.support_                  # Here we are getting only three True values as we have selected 3 features"
   ]
  },
  {
   "cell_type": "markdown",
   "id": "6517f34e",
   "metadata": {},
   "source": [
    "Inference : From this we can infer that pregnancy, pediatric and age are the columns used for predicting the class"
   ]
  },
  {
   "cell_type": "code",
   "execution_count": 18,
   "id": "16105d7a",
   "metadata": {},
   "outputs": [
    {
     "data": {
      "text/plain": [
       "array([1, 2, 4, 6, 5, 1, 1, 3])"
      ]
     },
     "execution_count": 18,
     "metadata": {},
     "output_type": "execute_result"
    }
   ],
   "source": [
    "fit.ranking_"
   ]
  },
  {
   "cell_type": "markdown",
   "id": "0e82b6c9",
   "metadata": {},
   "source": [
    "### Tree Based methods"
   ]
  },
  {
   "cell_type": "code",
   "execution_count": 20,
   "id": "73f0abd1",
   "metadata": {},
   "outputs": [],
   "source": [
    "# Using CART method, so GINI Impurity index will be calculated"
   ]
  },
  {
   "cell_type": "code",
   "execution_count": 37,
   "id": "4aa23f3a",
   "metadata": {},
   "outputs": [],
   "source": [
    "model1 = DecisionTreeClassifier()                   # If we do not pass anything inside the decision tree classifier by default it will select cart method"
   ]
  },
  {
   "cell_type": "code",
   "execution_count": 38,
   "id": "779927f3",
   "metadata": {},
   "outputs": [
    {
     "data": {
      "text/plain": [
       "DecisionTreeClassifier()"
      ]
     },
     "execution_count": 38,
     "metadata": {},
     "output_type": "execute_result"
    }
   ],
   "source": [
    "model1.fit(x,y)"
   ]
  },
  {
   "cell_type": "code",
   "execution_count": 39,
   "id": "4c75b563",
   "metadata": {},
   "outputs": [
    {
     "data": {
      "text/plain": [
       "array([0.06363197, 0.32425016, 0.07398163, 0.01499212, 0.04172211,\n",
       "       0.23502093, 0.12829627, 0.11810481])"
      ]
     },
     "execution_count": 39,
     "metadata": {},
     "output_type": "execute_result"
    }
   ],
   "source": [
    "# Extracting the important features\n",
    "\n",
    "model1.feature_importances_"
   ]
  },
  {
   "cell_type": "markdown",
   "id": "0f9d1e61",
   "metadata": {},
   "source": [
    "Infernces : From the above scores we can extract the features having less scores, so we can conclude that skin,test,pregnancy and mass are the most important variables for predicting the class variable"
   ]
  },
  {
   "cell_type": "code",
   "execution_count": null,
   "id": "7fbc06d0",
   "metadata": {},
   "outputs": [],
   "source": []
  }
 ],
 "metadata": {
  "kernelspec": {
   "display_name": "Python 3",
   "language": "python",
   "name": "python3"
  },
  "language_info": {
   "codemirror_mode": {
    "name": "ipython",
    "version": 3
   },
   "file_extension": ".py",
   "mimetype": "text/x-python",
   "name": "python",
   "nbconvert_exporter": "python",
   "pygments_lexer": "ipython3",
   "version": "3.8.8"
  },
  "toc": {
   "base_numbering": 1,
   "nav_menu": {},
   "number_sections": true,
   "sideBar": true,
   "skip_h1_title": false,
   "title_cell": "Table of Contents",
   "title_sidebar": "Contents",
   "toc_cell": false,
   "toc_position": {},
   "toc_section_display": true,
   "toc_window_display": false
  }
 },
 "nbformat": 4,
 "nbformat_minor": 5
}
